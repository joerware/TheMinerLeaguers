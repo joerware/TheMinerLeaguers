{
 "cells": [
  {
   "cell_type": "code",
   "execution_count": 2,
   "metadata": {},
   "outputs": [],
   "source": [
    "# Import necessary modules/libraries.\n",
    "import numpy\n",
    "import pandas as pd\n",
    "import pandas_profiling\n",
    "from ast import literal_eval"
   ]
  },
  {
   "cell_type": "code",
   "execution_count": 3,
   "metadata": {},
   "outputs": [],
   "source": [
    "#Define dataframe from local CSV file\n",
    "my_data = pd.read_csv('C:\\\\Users\\\\Joe\\\\Desktop\\\\tmdb_5000_movies.csv')"
   ]
  },
  {
   "cell_type": "code",
   "execution_count": 73,
   "metadata": {},
   "outputs": [],
   "source": [
    "# Generate new columns for cleaned attribute values to track provenance.\n",
    "my_data['genres_clean'] = 0\n",
    "my_data['keywords_clean'] = 0\n",
    "my_data['production_companies_clean'] = 0"
   ]
  },
  {
   "cell_type": "code",
   "execution_count": 75,
   "metadata": {},
   "outputs": [],
   "source": [
    "#Must set new column as object type to allow insertion of lists into dataframes, otherwise Type error will occur.\n",
    "my_data['genres_clean'] = my_data['genres_clean'].astype(object)\n",
    "my_data['keywords_clean'] = my_data['keywords_clean'].astype(object)\n",
    "my_data['production_companies_clean'] = my_data['production_companies_clean'].astype(object)\n"
   ]
  },
  {
   "cell_type": "code",
   "execution_count": 76,
   "metadata": {},
   "outputs": [],
   "source": [
    "# From genre attribute, this extracts values from 'name' keys as a list.\n",
    "for i in range(len(my_data)):\n",
    "    my_data.at[i, \"genres_clean\"] = [d['name'] for d in literal_eval(my_data.loc[i, \"genres\"])]\n",
    "    "
   ]
  },
  {
   "cell_type": "code",
   "execution_count": 77,
   "metadata": {},
   "outputs": [],
   "source": [
    "# From keywords attribute, this extracts values from 'name' keys as a list.\n",
    "for i in range(len(my_data)):\n",
    "    my_data.at[i, \"keywords_clean\"] = [d['name'] for d in literal_eval(my_data.loc[i, \"keywords\"])]\n",
    "    "
   ]
  },
  {
   "cell_type": "code",
   "execution_count": 78,
   "metadata": {},
   "outputs": [],
   "source": [
    "# From production_companies attribute, this extracts values from 'name' keys as a list.\n",
    "for i in range(len(my_data)):\n",
    "    my_data.at[i, \"production_companies_clean\"] = [d['name'] for d in literal_eval(my_data.loc[i, \"production_companies\"])]\n",
    "    "
   ]
  },
  {
   "cell_type": "code",
   "execution_count": 60,
   "metadata": {},
   "outputs": [],
   "source": [
    "# Mark rows that contain value of 0 for budget.\n",
    "for i in range(len(my_data)):\n",
    "    if my_data.at[i, \"budget\"] == 0:\n",
    "        my_data.at[i, \"delete\"] = 'Delete'"
   ]
  },
  {
   "cell_type": "code",
   "execution_count": 61,
   "metadata": {},
   "outputs": [],
   "source": [
    "# Mark rows that contain value of 0 for revenue.\n",
    "for i in range(len(my_data)):\n",
    "    if my_data.at[i, \"revenue\"] == 0:\n",
    "        my_data.at[i, \"delete\"] = 'Delete'"
   ]
  },
  {
   "cell_type": "code",
   "execution_count": 65,
   "metadata": {},
   "outputs": [],
   "source": [
    "# Delete all rows marked for deletion.\n",
    "my_data.drop(my_data[my_data[\"delete\"] == 'Delete'].index, inplace = True)"
   ]
  },
  {
   "cell_type": "code",
   "execution_count": 1,
   "metadata": {},
   "outputs": [
    {
     "ename": "NameError",
     "evalue": "name 'my_data' is not defined",
     "output_type": "error",
     "traceback": [
      "\u001b[1;31m---------------------------------------------------------------------------\u001b[0m",
      "\u001b[1;31mNameError\u001b[0m                                 Traceback (most recent call last)",
      "\u001b[1;32m<ipython-input-1-2049fd307071>\u001b[0m in \u001b[0;36m<module>\u001b[1;34m()\u001b[0m\n\u001b[1;32m----> 1\u001b[1;33m \u001b[0mmy_data\u001b[0m\u001b[1;33m\u001b[0m\u001b[0m\n\u001b[0m",
      "\u001b[1;31mNameError\u001b[0m: name 'my_data' is not defined"
     ]
    }
   ],
   "source": [
    "my_data"
   ]
  },
  {
   "cell_type": "code",
   "execution_count": null,
   "metadata": {},
   "outputs": [],
   "source": []
  }
 ],
 "metadata": {
  "kernelspec": {
   "display_name": "Python 3",
   "language": "python",
   "name": "python3"
  },
  "language_info": {
   "codemirror_mode": {
    "name": "ipython",
    "version": 3
   },
   "file_extension": ".py",
   "mimetype": "text/x-python",
   "name": "python",
   "nbconvert_exporter": "python",
   "pygments_lexer": "ipython3",
   "version": "3.6.5"
  }
 },
 "nbformat": 4,
 "nbformat_minor": 2
}
