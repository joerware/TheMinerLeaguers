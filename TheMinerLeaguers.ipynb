{
 "cells": [
  {
   "cell_type": "code",
   "execution_count": null,
   "metadata": {},
   "outputs": [],
   "source": [
    "# Import necessary modules/libraries.\n",
    "import numpy as np\n",
    "import pandas as pd\n",
    "import pandas_profiling\n",
    "from datetime import datetime\n",
    "from scipy.stats import zscore\n",
    "from ast import literal_eval"
   ]
  },
  {
   "cell_type": "code",
   "execution_count": null,
   "metadata": {},
   "outputs": [],
   "source": [
    "#Define dataframe from local CSV file\n",
    "my_data = pd.read_csv('C:\\\\Users\\\\Joe\\\\Desktop\\\\tmdb_5000_movies.csv')"
   ]
  },
  {
   "cell_type": "code",
   "execution_count": null,
   "metadata": {},
   "outputs": [],
   "source": [
    "# Generate new columns for cleaned attribute values; old values are retained for provenance.\n",
    "my_data['genres_clean'] = 0\n",
    "my_data['keywords_clean'] = 0\n",
    "my_data['production_companies_clean'] = 0\n",
    "my_data['roi'] = 0"
   ]
  },
  {
   "cell_type": "code",
   "execution_count": null,
   "metadata": {},
   "outputs": [],
   "source": [
    "#Must set new column as object type to allow insertion of lists into dataframes, otherwise Type error will occur.\n",
    "my_data['genres_clean'] = my_data['genres_clean'].astype(object)\n",
    "my_data['keywords_clean'] = my_data['keywords_clean'].astype(object)\n",
    "my_data['production_companies_clean'] = my_data['production_companies_clean'].astype(object)\n",
    "my_data['budget'] = my_data['budget'].astype(float)\n",
    "my_data['revenue'] = my_data['revenue'].astype(float)\n",
    "my_data['roi'] = my_data['revenue'].astype(float)"
   ]
  },
  {
   "cell_type": "code",
   "execution_count": null,
   "metadata": {},
   "outputs": [],
   "source": [
    "# From genre attribute, this extracts values from 'name' keys as a list.\n",
    "for i in range(len(my_data)):\n",
    "    my_data.at[i, \"genres_clean\"] = [d['name'] for d in literal_eval(my_data.loc[i, \"genres\"])]\n",
    "    "
   ]
  },
  {
   "cell_type": "code",
   "execution_count": null,
   "metadata": {},
   "outputs": [],
   "source": [
    "# From keywords attribute, this extracts values from 'name' keys as a list.\n",
    "for i in range(len(my_data)):\n",
    "    my_data.at[i, \"keywords_clean\"] = [d['name'] for d in literal_eval(my_data.loc[i, \"keywords\"])]\n",
    "    "
   ]
  },
  {
   "cell_type": "code",
   "execution_count": null,
   "metadata": {},
   "outputs": [],
   "source": [
    "# From production_companies attribute, this extracts values from 'name' keys as a list.\n",
    "for i in range(len(my_data)):\n",
    "    my_data.at[i, \"production_companies_clean\"] = [d['name'] for d in literal_eval(my_data.loc[i, \"production_companies\"])]\n",
    "    "
   ]
  },
  {
   "cell_type": "code",
   "execution_count": null,
   "metadata": {},
   "outputs": [],
   "source": [
    "# Mark to delete rows that contain value of 0 for budget.\n",
    "for i in range(len(my_data)):\n",
    "    if my_data.at[i, \"budget\"] == 0:\n",
    "        my_data.at[i, \"delete\"] = 'Delete'"
   ]
  },
  {
   "cell_type": "code",
   "execution_count": null,
   "metadata": {},
   "outputs": [],
   "source": [
    "# Mark to delete rows that contain value of 0 for revenue.\n",
    "for i in range(len(my_data)):\n",
    "    if my_data.at[i, \"revenue\"] == 0:\n",
    "        my_data.at[i, \"delete\"] = 'Delete'"
   ]
  },
  {
   "cell_type": "code",
   "execution_count": null,
   "metadata": {},
   "outputs": [],
   "source": [
    "# Remove homepage, language, overview attributes.\n",
    "my_data.drop(columns=['original_language', 'homepage', 'overview'])"
   ]
  },
  {
   "cell_type": "code",
   "execution_count": null,
   "metadata": {},
   "outputs": [],
   "source": [
    "# Delete all rows marked for deletion.\n",
    "my_data.drop(my_data[my_data[\"delete\"] == 'Delete'].index, inplace = True)\n",
    "\n",
    "# Dataframe must be re-indexed after dropping rows, or this will causes error in subsequent loop functions.\n",
    "my_data.reset_index(drop=True, inplace=True)"
   ]
  },
  {
   "cell_type": "code",
   "execution_count": null,
   "metadata": {},
   "outputs": [],
   "source": [
    "#Calculate return on investment a generate a new column.\n",
    "for i in range(len(my_data)):\n",
    "    my_data.at[i, \"roi\"] = round((my_data.at[i, \"revenue\"] - my_data.at[i, \"budget\"]) /  my_data.at[i, \"budget\"], 2)"
   ]
  },
  {
   "cell_type": "code",
   "execution_count": null,
   "metadata": {},
   "outputs": [],
   "source": [
    "#Generate separate a day of the year and year column.\n",
    "for i in range(len(my_data)):\n",
    "    d = datetime.strptime(my_data.at[i, \"release_date\"], '%Y-%m-%d')\n",
    "    my_data.at[i, \"day_of_year\"] = d.timetuple().tm_yday\n",
    "    my_data.at[i, \"year\"] = d.year\n"
   ]
  },
  {
   "cell_type": "code",
   "execution_count": null,
   "metadata": {},
   "outputs": [],
   "source": [
    "#Create dummy variables; nominal/categorical variables must be converted for regression analysis.\n",
    "my_data[\"genres_clean\"].str.join('|').str.get_dummies()"
   ]
  },
  {
   "cell_type": "code",
   "execution_count": null,
   "metadata": {},
   "outputs": [],
   "source": [
    "# Outlier analysis using z-score; adds columns to compute z-score for budget/revenue.\n",
    "my_data['revenue_zscore'] = my_data[['revenue']].apply(zscore)\n",
    "my_data['budget_zscore'] = my_data[['budget']].apply(zscore)\n",
    "\n",
    "#Scatter plot with data standardized via z-score\n",
    "#my_data.plot.scatter(x='budget_zscore', y='revenue_zscore', c='DarkBlue')"
   ]
  },
  {
   "cell_type": "code",
   "execution_count": null,
   "metadata": {},
   "outputs": [],
   "source": [
    "\"\"\"\"\n",
    "#Normalize data test\n",
    "from sklearn import preprocessing\n",
    "# Create x, where x the 'scores' column's values as floats\n",
    "x = my_data[['budget_zscore']].values.astype(float)\n",
    "y = my_data[['revenue_zscore']].values.astype(float)\n",
    "\n",
    "# Create a minimum and maximum processor object\n",
    "min_max_scaler = preprocessing.MinMaxScaler()\n",
    "\n",
    "# Create an object to transform the data to fit minmax processor\n",
    "x_scaled = min_max_scaler.fit_transform(x)\n",
    "y_scaled = min_max_scaler.fit_transform(y)\n",
    "\n",
    "# Run the normalizer on the dataframe\n",
    "my_data['budget_normalized'] = pd.DataFrame(x_scaled)\n",
    "my_data['revenue_normalized'] = pd.DataFrame(y_scaled)\n",
    "my_data.plot.scatter(x='budget_normalized', y='revenue_normalized', c='DarkBlue')\n",
    "\n",
    "\"\"\""
   ]
  },
  {
   "cell_type": "code",
   "execution_count": null,
   "metadata": {},
   "outputs": [],
   "source": [
    "# Show first 25 rows of dataframe\n",
    "my_data.head(25)"
   ]
  },
  {
   "cell_type": "code",
   "execution_count": null,
   "metadata": {},
   "outputs": [],
   "source": [
    "#Save dataframe as CSV somewhere\n",
    "#my_data.to_csv('C:\\\\Users\\\\Joe\\\\Desktop\\\\my_data_scores.csv')"
   ]
  },
  {
   "cell_type": "code",
   "execution_count": null,
   "metadata": {},
   "outputs": [],
   "source": []
  }
 ],
 "metadata": {
  "kernelspec": {
   "display_name": "Python 3",
   "language": "python",
   "name": "python3"
  },
  "language_info": {
   "codemirror_mode": {
    "name": "ipython",
    "version": 3
   },
   "file_extension": ".py",
   "mimetype": "text/x-python",
   "name": "python",
   "nbconvert_exporter": "python",
   "pygments_lexer": "ipython3",
   "version": "3.6.5"
  }
 },
 "nbformat": 4,
 "nbformat_minor": 2
}
